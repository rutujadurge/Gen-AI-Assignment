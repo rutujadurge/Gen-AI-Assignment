{
  "nbformat": 4,
  "nbformat_minor": 0,
  "metadata": {
    "colab": {
      "provenance": [],
      "authorship_tag": "ABX9TyM+JmY1Qnc4PqMfz22oKTOm",
      "include_colab_link": true
    },
    "kernelspec": {
      "name": "python3",
      "display_name": "Python 3"
    },
    "language_info": {
      "name": "python"
    }
  },
  "cells": [
    {
      "cell_type": "markdown",
      "metadata": {
        "id": "view-in-github",
        "colab_type": "text"
      },
      "source": [
        "<a href=\"https://colab.research.google.com/github/rutujadurge/Gen-AI-Assignment/blob/main/Step1.ipynb\" target=\"_parent\"><img src=\"https://colab.research.google.com/assets/colab-badge.svg\" alt=\"Open In Colab\"/></a>"
      ]
    },
    {
      "cell_type": "code",
      "execution_count": 8,
      "metadata": {
        "colab": {
          "base_uri": "https://localhost:8080/"
        },
        "id": "7nwOS_f8uOtZ",
        "outputId": "55400c9d-c264-47da-e3e5-02e7759e243f"
      },
      "outputs": [
        {
          "output_type": "stream",
          "name": "stdout",
          "text": [
            "Symptom Dictionary:\n",
            "{'Symptom 1': 'Fever: mild, low, high', 'Symptom 2': 'Cough: mild, low, high', 'Symptom 3': 'Cold: mild, low, high', 'Symptom 4': 'Body Ache: mild, low, high', 'Symptom 5': 'Shivering: mild, low, high', 'Symptom 6': 'Headache: mild, low, high', 'Symptom 7': 'Nausea: mild, low, high', 'Symptom 8': 'Sickness: mild, low, high', 'Symptom 9': 'Vertigo: mild, low, high'}\n"
          ]
        }
      ],
      "source": [
        "import pandas as pd\n",
        "# Load the Excel file\n",
        "file_path = '/content/sample_data/Auto_Regressive_Model_Diffusion_Model_V_1.0.xlsx'\n",
        "xls = pd.ExcelFile(file_path)\n",
        "\n",
        "# Step 1: Create Symptom Dictionary\n",
        "# Load the Base Data Set to create a symptom dictionary\n",
        "base_data_set_full = pd.read_excel(xls, sheet_name='Base_Data_Set')\n",
        "\n",
        "# Updated symptom dictionary including the new symptoms\n",
        "symptom_dict = {\n",
        "    'Symptom 1': 'Fever: mild, low, high',\n",
        "    'Symptom 2': 'Cough: mild, low, high',\n",
        "    'Symptom 3': 'Cold: mild, low, high',\n",
        "    'Symptom 4': 'Body Ache: mild, low, high',\n",
        "    'Symptom 5': 'Shivering: mild, low, high',\n",
        "    'Symptom 6': 'Headache: mild, low, high',\n",
        "    'Symptom 7': 'Nausea: mild, low, high',\n",
        "    'Symptom 8': 'Sickness: mild, low, high',\n",
        "    'Symptom 9': 'Vertigo: mild, low, high'\n",
        "}\n",
        "\n",
        "# Display the symptom dictionary as a dictionary\n",
        "print(\"Symptom Dictionary:\")\n",
        "print(symptom_dict)\n"
      ]
    },
    {
      "cell_type": "code",
      "source": [],
      "metadata": {
        "id": "0eSVukn5NfUR"
      },
      "execution_count": null,
      "outputs": []
    }
  ]
}