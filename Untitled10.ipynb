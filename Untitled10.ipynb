{
  "nbformat": 4,
  "nbformat_minor": 0,
  "metadata": {
    "colab": {
      "provenance": [],
      "authorship_tag": "ABX9TyMvdApVRTZvSseVpYBq4Sci",
      "include_colab_link": true
    },
    "kernelspec": {
      "name": "python3",
      "display_name": "Python 3"
    },
    "language_info": {
      "name": "python"
    }
  },
  "cells": [
    {
      "cell_type": "markdown",
      "metadata": {
        "id": "view-in-github",
        "colab_type": "text"
      },
      "source": [
        "<a href=\"https://colab.research.google.com/github/rutujadurge/Gen-AI-Assignment/blob/main/Untitled10.ipynb\" target=\"_parent\"><img src=\"https://colab.research.google.com/assets/colab-badge.svg\" alt=\"Open In Colab\"/></a>"
      ]
    },
    {
      "cell_type": "code",
      "execution_count": 6,
      "metadata": {
        "colab": {
          "base_uri": "https://localhost:8080/"
        },
        "id": "7nwOS_f8uOtZ",
        "outputId": "da71acbd-d627-496d-c819-a40e60f8a994"
      },
      "outputs": [
        {
          "output_type": "stream",
          "name": "stdout",
          "text": [
            "Symptom Dictionary:\n",
            "{'Symptom 1': ['Fever: mild, low, high'], 'Symptom 2': ['Cough: mild, low, high'], 'Symptom 3': ['Cold: mild, low, high']}\n"
          ]
        }
      ],
      "source": [
        "# STEP 1:\n",
        "\n",
        "import pandas as pd\n",
        "# Load the Excel file\n",
        "file_path = '/content/sample_data/Auto_Regressive_Model_Diffusion_Model_V_1.0.xlsx'\n",
        "xls = pd.ExcelFile(file_path)\n",
        "\n",
        "# Step 1: Create Symptom Dictionary\n",
        "# Load the Base Data Set to create a symptom dictionary\n",
        "base_data_set_full = pd.read_excel(xls, sheet_name='Base_Data_Set')\n",
        "\n",
        "# Assuming symptom severity is classified across columns, we'll create a dictionary\n",
        "symptom_dict = {\n",
        "    'Symptom 1': ['Fever: mild, low, high'],\n",
        "    'Symptom 2': ['Cough: mild, low, high'],\n",
        "    'Symptom 3': ['Cold: mild, low, high']\n",
        "}\n",
        "\n",
        "# Display the symptom dictionary\n",
        "print(\"Symptom Dictionary:\")\n",
        "print(symptom_dict)"
      ]
    }
  ]
}